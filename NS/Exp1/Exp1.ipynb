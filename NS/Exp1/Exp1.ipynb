{
 "cells": [
  {
   "cell_type": "markdown",
   "metadata": {},
   "source": [
    "Experiment 1\n",
    "Client Server Socket programming and analyze the movement of traffic flow."
   ]
  },
  {
   "cell_type": "code",
   "execution_count": 5,
   "metadata": {},
   "outputs": [
    {
     "ename": "KeyboardInterrupt",
     "evalue": "",
     "output_type": "error",
     "traceback": [
      "\u001b[0;31m---------------------------------------------------------------------------\u001b[0m",
      "\u001b[0;31mKeyboardInterrupt\u001b[0m                         Traceback (most recent call last)",
      "\u001b[1;32m/Users/deeprajb/Exp1.ipynb Cell 2'\u001b[0m in \u001b[0;36m<cell line: 6>\u001b[0;34m()\u001b[0m\n\u001b[1;32m      <a href='vscode-notebook-cell:/Users/deeprajb/Exp1.ipynb#ch0000004?line=3'>4</a>\u001b[0m serv\u001b[39m.\u001b[39mlisten(\u001b[39m5\u001b[39m)\n\u001b[1;32m      <a href='vscode-notebook-cell:/Users/deeprajb/Exp1.ipynb#ch0000004?line=4'>5</a>\u001b[0m \u001b[39mwhile\u001b[39;00m \u001b[39mTrue\u001b[39;00m:\n\u001b[0;32m----> <a href='vscode-notebook-cell:/Users/deeprajb/Exp1.ipynb#ch0000004?line=5'>6</a>\u001b[0m     conn, addr \u001b[39m=\u001b[39m serv\u001b[39m.\u001b[39;49maccept()\n\u001b[1;32m      <a href='vscode-notebook-cell:/Users/deeprajb/Exp1.ipynb#ch0000004?line=6'>7</a>\u001b[0m     from_client \u001b[39m=\u001b[39m \u001b[39m'\u001b[39m\u001b[39m'\u001b[39m\n\u001b[1;32m      <a href='vscode-notebook-cell:/Users/deeprajb/Exp1.ipynb#ch0000004?line=7'>8</a>\u001b[0m     \u001b[39mwhile\u001b[39;00m \u001b[39mTrue\u001b[39;00m:\n",
      "File \u001b[0;32m/opt/homebrew/Caskroom/miniconda/base/envs/networksecurity/lib/python3.9/socket.py:293\u001b[0m, in \u001b[0;36msocket.accept\u001b[0;34m(self)\u001b[0m\n\u001b[1;32m    <a href='file:///opt/homebrew/Caskroom/miniconda/base/envs/networksecurity/lib/python3.9/socket.py?line=285'>286</a>\u001b[0m \u001b[39mdef\u001b[39;00m \u001b[39maccept\u001b[39m(\u001b[39mself\u001b[39m):\n\u001b[1;32m    <a href='file:///opt/homebrew/Caskroom/miniconda/base/envs/networksecurity/lib/python3.9/socket.py?line=286'>287</a>\u001b[0m     \u001b[39m\"\"\"accept() -> (socket object, address info)\u001b[39;00m\n\u001b[1;32m    <a href='file:///opt/homebrew/Caskroom/miniconda/base/envs/networksecurity/lib/python3.9/socket.py?line=287'>288</a>\u001b[0m \n\u001b[1;32m    <a href='file:///opt/homebrew/Caskroom/miniconda/base/envs/networksecurity/lib/python3.9/socket.py?line=288'>289</a>\u001b[0m \u001b[39m    Wait for an incoming connection.  Return a new socket\u001b[39;00m\n\u001b[1;32m    <a href='file:///opt/homebrew/Caskroom/miniconda/base/envs/networksecurity/lib/python3.9/socket.py?line=289'>290</a>\u001b[0m \u001b[39m    representing the connection, and the address of the client.\u001b[39;00m\n\u001b[1;32m    <a href='file:///opt/homebrew/Caskroom/miniconda/base/envs/networksecurity/lib/python3.9/socket.py?line=290'>291</a>\u001b[0m \u001b[39m    For IP sockets, the address info is a pair (hostaddr, port).\u001b[39;00m\n\u001b[1;32m    <a href='file:///opt/homebrew/Caskroom/miniconda/base/envs/networksecurity/lib/python3.9/socket.py?line=291'>292</a>\u001b[0m \u001b[39m    \"\"\"\u001b[39;00m\n\u001b[0;32m--> <a href='file:///opt/homebrew/Caskroom/miniconda/base/envs/networksecurity/lib/python3.9/socket.py?line=292'>293</a>\u001b[0m     fd, addr \u001b[39m=\u001b[39m \u001b[39mself\u001b[39;49m\u001b[39m.\u001b[39;49m_accept()\n\u001b[1;32m    <a href='file:///opt/homebrew/Caskroom/miniconda/base/envs/networksecurity/lib/python3.9/socket.py?line=293'>294</a>\u001b[0m     sock \u001b[39m=\u001b[39m socket(\u001b[39mself\u001b[39m\u001b[39m.\u001b[39mfamily, \u001b[39mself\u001b[39m\u001b[39m.\u001b[39mtype, \u001b[39mself\u001b[39m\u001b[39m.\u001b[39mproto, fileno\u001b[39m=\u001b[39mfd)\n\u001b[1;32m    <a href='file:///opt/homebrew/Caskroom/miniconda/base/envs/networksecurity/lib/python3.9/socket.py?line=294'>295</a>\u001b[0m     \u001b[39m# Issue #7995: if no default timeout is set and the listening\u001b[39;00m\n\u001b[1;32m    <a href='file:///opt/homebrew/Caskroom/miniconda/base/envs/networksecurity/lib/python3.9/socket.py?line=295'>296</a>\u001b[0m     \u001b[39m# socket had a (non-zero) timeout, force the new socket in blocking\u001b[39;00m\n\u001b[1;32m    <a href='file:///opt/homebrew/Caskroom/miniconda/base/envs/networksecurity/lib/python3.9/socket.py?line=296'>297</a>\u001b[0m     \u001b[39m# mode to override platform-specific socket flags inheritance.\u001b[39;00m\n",
      "\u001b[0;31mKeyboardInterrupt\u001b[0m: "
     ]
    }
   ],
   "source": [
    "import socket\n",
    "serv = socket.socket(socket.AF_INET, socket.SOCK_STREAM)\n",
    "serv.bind(('0.0.0.0', 8080))\n",
    "serv.listen(5)\n",
    "while True:\n",
    "    conn, addr = serv.accept()\n",
    "    from_client = ''\n",
    "    while True:\n",
    "        data = conn.recv(4096)\n",
    "        if not data: break\n",
    "        from_client += data\n",
    "        print(from_client)\n",
    "        conn.send(\"I am SERVER\")\n",
    "    conn.close()\n",
    "    print('client disconnected')"
   ]
  },
  {
   "cell_type": "code",
   "execution_count": 6,
   "metadata": {},
   "outputs": [],
   "source": [
    "import socket\n",
    "client = socket.socket(socket.AF_INET, socket.SOCK_STREAM)\n",
    "client.connect(('0.0.0.0', 8080))\n",
    "client.send(\"I am CLIENT\")\n",
    "from_server = client.recv(4096)\n",
    "client.close()\n",
    "print(from_server)"
   ]
  }
 ],
 "metadata": {
  "interpreter": {
   "hash": "b11b2330a096030fadb9639ab902818734cec5f539421cf2da46d8167d8c36e7"
  },
  "kernelspec": {
   "display_name": "Python 3.9.11 ('networksecurity')",
   "language": "python",
   "name": "python3"
  },
  "language_info": {
   "codemirror_mode": {
    "name": "ipython",
    "version": 3
   },
   "file_extension": ".py",
   "mimetype": "text/x-python",
   "name": "python",
   "nbconvert_exporter": "python",
   "pygments_lexer": "ipython3",
   "version": "3.9.11"
  },
  "orig_nbformat": 4
 },
 "nbformat": 4,
 "nbformat_minor": 2
}
